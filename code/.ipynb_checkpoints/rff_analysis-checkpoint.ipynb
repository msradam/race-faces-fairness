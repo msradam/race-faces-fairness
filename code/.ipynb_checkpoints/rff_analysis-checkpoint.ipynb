{
 "cells": [
  {
   "cell_type": "code",
   "execution_count": 1,
   "metadata": {},
   "outputs": [],
   "source": [
    "import pandas as pd\n",
    "import numpy as np"
   ]
  },
  {
   "cell_type": "code",
   "execution_count": 2,
   "metadata": {},
   "outputs": [],
   "source": [
    "asian_faces1_df = pd.read_csv('asian_faces.csv')\n",
    "black_faces1_df = pd.read_csv('black_faces.csv')\n",
    "white_faces1_df = pd.read_csv('white_faces.csv')\n",
    "asian_faces2_df = pd.read_csv('asian_faces2.csv')\n",
    "black_faces2_df = pd.read_csv('black_faces2.csv')\n",
    "white_faces2_df = pd.read_csv('white_faces2.csv')\n",
    "asian_faces3_df = pd.read_csv('asian_faces3.csv')\n",
    "black_faces3_df = pd.read_csv('black_faces3.csv')\n",
    "white_faces3_df = pd.read_csv('white_faces3.csv')"
   ]
  },
  {
   "cell_type": "code",
   "execution_count": 3,
   "metadata": {},
   "outputs": [],
   "source": [
    "asian_faces_df = pd.concat( [asian_faces3_df, pd.concat([asian_faces2_df, asian_faces1_df], ignore_index=True)], ignore_index=True)\n",
    "black_faces_df = pd.concat( [black_faces3_df, pd.concat([black_faces2_df, black_faces1_df], ignore_index=True)], ignore_index=True)\n",
    "white_faces_df = pd.concat( [white_faces3_df, pd.concat([white_faces2_df, white_faces1_df], ignore_index=True)], ignore_index=True)"
   ]
  },
  {
   "cell_type": "code",
   "execution_count": 4,
   "metadata": {},
   "outputs": [],
   "source": [
    "asian_faces_df['sightengine male'] = asian_faces_df['sightengine male'].apply(lambda x:x*100)\n",
    "asian_faces_df['sightengine female'] = asian_faces_df['sightengine female'].apply(lambda x:x*100)\n",
    "black_faces_df['sightengine male'] = black_faces_df['sightengine male'].apply(lambda x:x*100)\n",
    "black_faces_df['sightengine female'] = black_faces_df['sightengine female'].apply(lambda x:x*100)\n",
    "white_faces_df['sightengine male'] = white_faces_df['sightengine male'].apply(lambda x:x*100)\n",
    "white_faces_df['sightengine female'] = white_faces_df['sightengine female'].apply(lambda x:x*100)"
   ]
  },
  {
   "cell_type": "code",
   "execution_count": 5,
   "metadata": {},
   "outputs": [],
   "source": [
    "def label_to_int(s):\n",
    "    if s == 'Male':\n",
    "        return 0\n",
    "    elif s == 'Female':\n",
    "        return 1\n",
    "    else:\n",
    "        return 2"
   ]
  },
  {
   "cell_type": "code",
   "execution_count": 6,
   "metadata": {},
   "outputs": [],
   "source": [
    "asian_faces_df['sightengine label'] = asian_faces_df['sightengine label'].apply(lambda s:label_to_int(s))\n",
    "asian_faces_df['rekognition label'] = asian_faces_df['rekognition label'].apply(lambda s:label_to_int(s))\n",
    "black_faces_df['sightengine label'] = black_faces_df['sightengine label'].apply(lambda s:label_to_int(s))\n",
    "black_faces_df['rekognition label'] = black_faces_df['rekognition label'].apply(lambda s:label_to_int(s))\n",
    "white_faces_df['sightengine label'] = white_faces_df['sightengine label'].apply(lambda s:label_to_int(s))\n",
    "white_faces_df['rekognition label'] = white_faces_df['rekognition label'].apply(lambda s:label_to_int(s))"
   ]
  },
  {
   "cell_type": "code",
   "execution_count": 7,
   "metadata": {},
   "outputs": [
    {
     "data": {
      "text/html": [
       "<div>\n",
       "<style scoped>\n",
       "    .dataframe tbody tr th:only-of-type {\n",
       "        vertical-align: middle;\n",
       "    }\n",
       "\n",
       "    .dataframe tbody tr th {\n",
       "        vertical-align: top;\n",
       "    }\n",
       "\n",
       "    .dataframe thead th {\n",
       "        text-align: right;\n",
       "    }\n",
       "</style>\n",
       "<table border=\"1\" class=\"dataframe\">\n",
       "  <thead>\n",
       "    <tr style=\"text-align: right;\">\n",
       "      <th></th>\n",
       "      <th>Unnamed: 0</th>\n",
       "      <th>filename</th>\n",
       "      <th>gender label</th>\n",
       "      <th>sightengine label</th>\n",
       "      <th>sightengine male</th>\n",
       "      <th>sightengine female</th>\n",
       "      <th>rekognition label</th>\n",
       "      <th>rekognition male</th>\n",
       "      <th>rekognition female</th>\n",
       "    </tr>\n",
       "  </thead>\n",
       "  <tbody>\n",
       "    <tr>\n",
       "      <th>0</th>\n",
       "      <td>0</td>\n",
       "      <td>19_1_2_20170116163806963.jpg.chip.jpg</td>\n",
       "      <td>1</td>\n",
       "      <td>1</td>\n",
       "      <td>1.0</td>\n",
       "      <td>99.0</td>\n",
       "      <td>1</td>\n",
       "      <td>12.075745</td>\n",
       "      <td>87.924255</td>\n",
       "    </tr>\n",
       "    <tr>\n",
       "      <th>1</th>\n",
       "      <td>1</td>\n",
       "      <td>26_1_2_20170116184020867.jpg.chip.jpg</td>\n",
       "      <td>1</td>\n",
       "      <td>1</td>\n",
       "      <td>1.0</td>\n",
       "      <td>99.0</td>\n",
       "      <td>1</td>\n",
       "      <td>4.009827</td>\n",
       "      <td>95.990173</td>\n",
       "    </tr>\n",
       "    <tr>\n",
       "      <th>2</th>\n",
       "      <td>2</td>\n",
       "      <td>26_1_2_20170104020230700.jpg.chip.jpg</td>\n",
       "      <td>1</td>\n",
       "      <td>1</td>\n",
       "      <td>1.0</td>\n",
       "      <td>99.0</td>\n",
       "      <td>1</td>\n",
       "      <td>4.293236</td>\n",
       "      <td>95.706764</td>\n",
       "    </tr>\n",
       "    <tr>\n",
       "      <th>3</th>\n",
       "      <td>3</td>\n",
       "      <td>34_1_2_20170104204327523.jpg.chip.jpg</td>\n",
       "      <td>1</td>\n",
       "      <td>1</td>\n",
       "      <td>29.0</td>\n",
       "      <td>71.0</td>\n",
       "      <td>1</td>\n",
       "      <td>2.085533</td>\n",
       "      <td>97.914467</td>\n",
       "    </tr>\n",
       "    <tr>\n",
       "      <th>4</th>\n",
       "      <td>4</td>\n",
       "      <td>26_1_2_20170104015910819.jpg.chip.jpg</td>\n",
       "      <td>1</td>\n",
       "      <td>1</td>\n",
       "      <td>1.0</td>\n",
       "      <td>99.0</td>\n",
       "      <td>1</td>\n",
       "      <td>2.580025</td>\n",
       "      <td>97.419975</td>\n",
       "    </tr>\n",
       "  </tbody>\n",
       "</table>\n",
       "</div>"
      ],
      "text/plain": [
       "   Unnamed: 0                               filename  gender label  \\\n",
       "0           0  19_1_2_20170116163806963.jpg.chip.jpg             1   \n",
       "1           1  26_1_2_20170116184020867.jpg.chip.jpg             1   \n",
       "2           2  26_1_2_20170104020230700.jpg.chip.jpg             1   \n",
       "3           3  34_1_2_20170104204327523.jpg.chip.jpg             1   \n",
       "4           4  26_1_2_20170104015910819.jpg.chip.jpg             1   \n",
       "\n",
       "   sightengine label  sightengine male  sightengine female  rekognition label  \\\n",
       "0                  1               1.0                99.0                  1   \n",
       "1                  1               1.0                99.0                  1   \n",
       "2                  1               1.0                99.0                  1   \n",
       "3                  1              29.0                71.0                  1   \n",
       "4                  1               1.0                99.0                  1   \n",
       "\n",
       "   rekognition male  rekognition female  \n",
       "0         12.075745           87.924255  \n",
       "1          4.009827           95.990173  \n",
       "2          4.293236           95.706764  \n",
       "3          2.085533           97.914467  \n",
       "4          2.580025           97.419975  "
      ]
     },
     "execution_count": 7,
     "metadata": {},
     "output_type": "execute_result"
    }
   ],
   "source": [
    "asian_faces_df.head()"
   ]
  },
  {
   "cell_type": "code",
   "execution_count": 8,
   "metadata": {},
   "outputs": [],
   "source": [
    "results_df_dict = {\n",
    "    \"Race\": ['Asian', 'Asian', 'Black', 'Black', 'White', 'White'],\n",
    "    \"Gender\": ['Female', 'Male', 'Female', 'Male', 'Female', 'Male'],\n",
    "    'Rekognition Error Rate':[],\n",
    "    'Rekognition Failure Rate':[],\n",
    "    'Rekognition Mean Male Confidence':[],\n",
    "    'Rekognition Mean Female Confidence':[],\n",
    "    'SightEngine Error Rate':[],\n",
    "    'SightEngine Failure Rate':[],\n",
    "    'SightEngine Mean Male Confidence':[],\n",
    "    'SightEngine Mean Female Confidence':[]\n",
    "}"
   ]
  },
  {
   "cell_type": "code",
   "execution_count": 9,
   "metadata": {},
   "outputs": [],
   "source": [
    "def label_error(enc, label):\n",
    "    if enc != label:\n",
    "        if label == 2:\n",
    "            return 2\n",
    "        else:\n",
    "            return 1"
   ]
  },
  {
   "cell_type": "markdown",
   "metadata": {},
   "source": [
    "### Data Collection for Asian Face Classification"
   ]
  },
  {
   "cell_type": "code",
   "execution_count": 10,
   "metadata": {},
   "outputs": [],
   "source": [
    "asian_female_count = len(asian_faces_df)/2\n",
    "asian_male_count = len(asian_faces_df)/2\n",
    "\n",
    "asian_female_sightengine_error = 0\n",
    "asian_female_rekognition_error = 0\n",
    "\n",
    "asian_male_sightengine_error = 0\n",
    "asian_male_rekognition_error = 0\n",
    "\n",
    "asian_male_sightengine_fail = 0\n",
    "asian_male_rekognition_fail = 0\n",
    "\n",
    "asian_female_sightengine_fail = 0\n",
    "asian_female_rekognition_fail = 0"
   ]
  },
  {
   "cell_type": "code",
   "execution_count": 11,
   "metadata": {},
   "outputs": [],
   "source": [
    "asian_female_df = asian_faces_df.loc[asian_faces_df['gender label'] == 1]\n",
    "asian_male_df = asian_faces_df.loc[asian_faces_df['gender label'] == 0]\n",
    "\n",
    "asian_male_mean_sightengine_male_conf = np.mean(asian_male_df['sightengine male'])\n",
    "asian_male_mean_sightengine_female_conf = np.mean(asian_male_df['sightengine female'])\n",
    "asian_male_mean_rekognition_male_conf = np.mean(asian_male_df['rekognition male'])\n",
    "asian_male_mean_rekognition_female_conf = np.mean(asian_male_df['rekognition female'])\n",
    "\n",
    "asian_female_mean_sightengine_male_conf = np.mean(asian_female_df['sightengine male'])\n",
    "asian_female_mean_sightengine_female_conf = np.mean(asian_female_df['sightengine female'])\n",
    "asian_female_mean_rekognition_male_conf = np.mean(asian_female_df['sightengine male'])\n",
    "asian_female_mean_rekognition_female_conf = np.mean(asian_female_df['sightengine female'])"
   ]
  },
  {
   "cell_type": "code",
   "execution_count": 12,
   "metadata": {},
   "outputs": [],
   "source": [
    "for index, row in asian_faces_df.iterrows():\n",
    "    enc = row['gender label']\n",
    "    se_label= row['sightengine label']\n",
    "    rekog_label = row['rekognition label']\n",
    "    if enc == 0:\n",
    "        if label_error(enc, se_label) == 1:\n",
    "            asian_male_sightengine_error += 1\n",
    "        elif label_error(enc, rekog_label) == 1:\n",
    "            asian_male_rekognition_error += 1\n",
    "        elif label_error(enc, rekog_label) == 2:\n",
    "            asian_male_rekognition_fail += 1\n",
    "        elif label_error(enc, se_label) == 2:\n",
    "            asian_male_sightengine_fail += 1\n",
    "    if enc == 1:\n",
    "        if label_error(enc, se_label) == 1:\n",
    "            asian_female_sightengine_error += 1\n",
    "        elif label_error(enc, rekog_label) == 1:\n",
    "            asian_female_rekognition_error += 1\n",
    "        elif label_error(enc, rekog_label) == 2:\n",
    "            asian_female_rekognition_fail += 1\n",
    "        elif label_error(enc, se_label) == 2:\n",
    "            asian_female_sightengine_fail += 1"
   ]
  },
  {
   "cell_type": "code",
   "execution_count": 13,
   "metadata": {},
   "outputs": [],
   "source": [
    "results_df_dict['Rekognition Error Rate'].append( (asian_female_rekognition_error / asian_female_count) * 100 )\n",
    "results_df_dict['Rekognition Failure Rate'].append( (asian_female_rekognition_fail / asian_female_count) * 100 )\n",
    "results_df_dict['Rekognition Mean Male Confidence'].append( asian_female_mean_rekognition_male_conf )\n",
    "results_df_dict['Rekognition Mean Female Confidence'].append( asian_female_mean_rekognition_female_conf )\n",
    "results_df_dict['Rekognition Error Rate'].append( (asian_male_rekognition_error / asian_male_count) * 100 )\n",
    "results_df_dict['Rekognition Failure Rate'].append( (asian_male_rekognition_fail / asian_male_count) * 100 )\n",
    "results_df_dict['Rekognition Mean Male Confidence'].append( asian_male_mean_rekognition_male_conf )\n",
    "results_df_dict['Rekognition Mean Female Confidence'].append( asian_male_mean_rekognition_female_conf )"
   ]
  },
  {
   "cell_type": "code",
   "execution_count": 14,
   "metadata": {},
   "outputs": [],
   "source": [
    "results_df_dict['SightEngine Error Rate'].append( (asian_female_sightengine_error / asian_female_count) * 100 )\n",
    "results_df_dict['SightEngine Failure Rate'].append( (asian_female_sightengine_fail / asian_female_count) * 100 )\n",
    "results_df_dict['SightEngine Mean Male Confidence'].append( asian_female_mean_sightengine_male_conf )\n",
    "results_df_dict['SightEngine Mean Female Confidence'].append( asian_female_mean_sightengine_female_conf )\n",
    "results_df_dict['SightEngine Error Rate'].append( (asian_male_sightengine_error / asian_male_count) * 100 )\n",
    "results_df_dict['SightEngine Failure Rate'].append( (asian_male_sightengine_fail / asian_male_count) * 100 )\n",
    "results_df_dict['SightEngine Mean Male Confidence'].append( asian_male_mean_sightengine_male_conf )\n",
    "results_df_dict['SightEngine Mean Female Confidence'].append( asian_male_mean_sightengine_female_conf )"
   ]
  },
  {
   "cell_type": "markdown",
   "metadata": {},
   "source": [
    "### Data Collection for Black Face Classification"
   ]
  },
  {
   "cell_type": "code",
   "execution_count": 15,
   "metadata": {},
   "outputs": [],
   "source": [
    "black_female_count = len(black_faces_df)/2\n",
    "black_male_count = len(black_faces_df)/2\n",
    "black_female_sightengine_error = 0\n",
    "black_female_rekognition_error = 0\n",
    "black_male_sightengine_error = 0\n",
    "black_male_rekognition_error = 0\n",
    "black_male_sightengine_fail = 0\n",
    "black_male_rekognition_fail = 0\n",
    "black_female_sightengine_fail = 0\n",
    "black_female_rekognition_fail = 0"
   ]
  },
  {
   "cell_type": "code",
   "execution_count": 16,
   "metadata": {},
   "outputs": [],
   "source": [
    "black_female_df = black_faces_df.loc[black_faces_df['gender label'] == 1]\n",
    "black_male_df = black_faces_df.loc[black_faces_df['gender label'] == 0]\n",
    "black_male_mean_sightengine_male_conf = np.mean(black_male_df['sightengine male'])\n",
    "black_male_mean_sightengine_female_conf = np.mean(black_male_df['sightengine female'])\n",
    "black_male_mean_rekognition_male_conf = np.mean(black_male_df['rekognition male'])\n",
    "black_male_mean_rekognition_female_conf = np.mean(black_male_df['rekognition female'])\n",
    "black_female_mean_sightengine_male_conf = np.mean(black_female_df['sightengine male'])\n",
    "black_female_mean_sightengine_female_conf = np.mean(black_female_df['sightengine female'])\n",
    "black_female_mean_rekognition_male_conf = np.mean(black_female_df['sightengine male'])\n",
    "black_female_mean_rekognition_female_conf = np.mean(black_female_df['sightengine female'])"
   ]
  },
  {
   "cell_type": "code",
   "execution_count": 17,
   "metadata": {},
   "outputs": [],
   "source": [
    "for index, row in black_faces_df.iterrows():\n",
    "    enc = row['gender label']\n",
    "    se_label= row['sightengine label']\n",
    "    rekog_label = row['rekognition label']\n",
    "    if enc == 0:\n",
    "        if label_error(enc, se_label) == 1:\n",
    "            black_male_sightengine_error += 1\n",
    "        elif label_error(enc, rekog_label) == 1:\n",
    "            black_male_rekognition_error += 1\n",
    "        elif label_error(enc, rekog_label) == 2:\n",
    "            black_male_rekognition_fail += 1\n",
    "        elif label_error(enc, se_label) == 2:\n",
    "            black_male_sightengine_fail += 1\n",
    "    if enc == 1:\n",
    "        if label_error(enc, se_label) == 1:\n",
    "            black_female_sightengine_error += 1\n",
    "        elif label_error(enc, rekog_label) == 1:\n",
    "            black_female_rekognition_error += 1\n",
    "        elif label_error(enc, rekog_label) == 2:\n",
    "            black_female_rekognition_fail += 1\n",
    "        elif label_error(enc, se_label) == 2:\n",
    "            black_female_sightengine_fail += 1"
   ]
  },
  {
   "cell_type": "code",
   "execution_count": 18,
   "metadata": {},
   "outputs": [],
   "source": [
    "results_df_dict['Rekognition Error Rate'].append( (black_female_rekognition_error / black_female_count) * 100 )\n",
    "results_df_dict['Rekognition Failure Rate'].append( (black_female_rekognition_fail / black_female_count) * 100 )\n",
    "results_df_dict['Rekognition Mean Male Confidence'].append( black_female_mean_rekognition_male_conf )\n",
    "results_df_dict['Rekognition Mean Female Confidence'].append( black_female_mean_rekognition_female_conf )\n",
    "results_df_dict['Rekognition Error Rate'].append( (black_male_rekognition_error / black_male_count) * 100 )\n",
    "results_df_dict['Rekognition Failure Rate'].append( (black_male_rekognition_fail / black_male_count) * 100 )\n",
    "results_df_dict['Rekognition Mean Male Confidence'].append( black_male_mean_rekognition_male_conf )\n",
    "results_df_dict['Rekognition Mean Female Confidence'].append( black_male_mean_rekognition_female_conf )"
   ]
  },
  {
   "cell_type": "code",
   "execution_count": 19,
   "metadata": {},
   "outputs": [],
   "source": [
    "results_df_dict['SightEngine Error Rate'].append( (black_female_sightengine_error / black_female_count) * 100 )\n",
    "results_df_dict['SightEngine Failure Rate'].append( (black_female_sightengine_fail / black_female_count) * 100 )\n",
    "results_df_dict['SightEngine Mean Male Confidence'].append( black_female_mean_sightengine_male_conf )\n",
    "results_df_dict['SightEngine Mean Female Confidence'].append( black_female_mean_sightengine_female_conf )\n",
    "results_df_dict['SightEngine Error Rate'].append( (black_male_sightengine_error / black_male_count) * 100 )\n",
    "results_df_dict['SightEngine Failure Rate'].append( (black_male_sightengine_fail / black_male_count) * 100 )\n",
    "results_df_dict['SightEngine Mean Male Confidence'].append( black_male_mean_sightengine_male_conf )\n",
    "results_df_dict['SightEngine Mean Female Confidence'].append( black_male_mean_sightengine_female_conf )"
   ]
  },
  {
   "cell_type": "markdown",
   "metadata": {},
   "source": [
    "### Data Collection for White Face Classification"
   ]
  },
  {
   "cell_type": "code",
   "execution_count": 20,
   "metadata": {},
   "outputs": [],
   "source": [
    "white_female_count = len(white_faces_df)/2\n",
    "white_male_count = len(white_faces_df)/2\n",
    "white_female_sightengine_error = 0\n",
    "white_female_rekognition_error = 0\n",
    "white_male_sightengine_error = 0\n",
    "white_male_rekognition_error = 0\n",
    "white_male_sightengine_fail = 0\n",
    "white_male_rekognition_fail = 0\n",
    "white_female_sightengine_fail = 0\n",
    "white_female_rekognition_fail = 0"
   ]
  },
  {
   "cell_type": "code",
   "execution_count": 21,
   "metadata": {},
   "outputs": [],
   "source": [
    "white_female_df = white_faces_df.loc[white_faces_df['gender label'] == 1]\n",
    "white_male_df = white_faces_df.loc[white_faces_df['gender label'] == 0]\n",
    "white_male_mean_sightengine_male_conf = np.mean(white_male_df['sightengine male'])\n",
    "white_male_mean_sightengine_female_conf = np.mean(white_male_df['sightengine female'])\n",
    "white_male_mean_rekognition_male_conf = np.mean(white_male_df['rekognition male'])\n",
    "white_male_mean_rekognition_female_conf = np.mean(white_male_df['rekognition female'])\n",
    "white_female_mean_sightengine_male_conf = np.mean(white_female_df['sightengine male'])\n",
    "white_female_mean_sightengine_female_conf = np.mean(white_female_df['sightengine female'])\n",
    "white_female_mean_rekognition_male_conf = np.mean(white_female_df['sightengine male'])\n",
    "white_female_mean_rekognition_female_conf = np.mean(white_female_df['sightengine female'])"
   ]
  },
  {
   "cell_type": "code",
   "execution_count": 22,
   "metadata": {},
   "outputs": [],
   "source": [
    "for index, row in white_faces_df.iterrows():\n",
    "    enc = row['gender label']\n",
    "    se_label= row['sightengine label']\n",
    "    rekog_label = row['rekognition label']\n",
    "    if enc == 0:\n",
    "        if label_error(enc, se_label) == 1:\n",
    "            white_male_sightengine_error += 1\n",
    "        elif label_error(enc, rekog_label) == 1:\n",
    "            white_male_rekognition_error += 1\n",
    "        elif label_error(enc, rekog_label) == 2:\n",
    "            white_male_rekognition_fail += 1\n",
    "        elif label_error(enc, se_label) == 2:\n",
    "            white_male_sightengine_fail += 1\n",
    "    if enc == 1:\n",
    "        if label_error(enc, se_label) == 1:\n",
    "            white_female_sightengine_error += 1\n",
    "        elif label_error(enc, rekog_label) == 1:\n",
    "            white_female_rekognition_error += 1\n",
    "        elif label_error(enc, rekog_label) == 2:\n",
    "            white_female_rekognition_fail += 1\n",
    "        elif label_error(enc, se_label) == 2:\n",
    "            white_female_sightengine_fail += 1"
   ]
  },
  {
   "cell_type": "code",
   "execution_count": 23,
   "metadata": {},
   "outputs": [],
   "source": [
    "results_df_dict['Rekognition Error Rate'].append( (white_female_rekognition_error / white_female_count) * 100 )\n",
    "results_df_dict['Rekognition Failure Rate'].append( (white_female_rekognition_fail / white_female_count) * 100 )\n",
    "results_df_dict['Rekognition Mean Male Confidence'].append( white_female_mean_rekognition_male_conf )\n",
    "results_df_dict['Rekognition Mean Female Confidence'].append( white_female_mean_rekognition_female_conf )\n",
    "results_df_dict['Rekognition Error Rate'].append( (white_male_rekognition_error / white_male_count) * 100 )\n",
    "results_df_dict['Rekognition Failure Rate'].append( (white_male_rekognition_fail / white_male_count) * 100 )\n",
    "results_df_dict['Rekognition Mean Male Confidence'].append( white_male_mean_rekognition_male_conf )\n",
    "results_df_dict['Rekognition Mean Female Confidence'].append( white_male_mean_rekognition_female_conf )"
   ]
  },
  {
   "cell_type": "code",
   "execution_count": 24,
   "metadata": {},
   "outputs": [],
   "source": [
    "results_df_dict['SightEngine Error Rate'].append( (white_female_sightengine_error / white_female_count) * 100 )\n",
    "results_df_dict['SightEngine Failure Rate'].append( (white_female_sightengine_fail / white_female_count) * 100 )\n",
    "results_df_dict['SightEngine Mean Male Confidence'].append( white_female_mean_sightengine_male_conf )\n",
    "results_df_dict['SightEngine Mean Female Confidence'].append( white_female_mean_sightengine_female_conf )\n",
    "results_df_dict['SightEngine Error Rate'].append( (white_male_sightengine_error / white_male_count) * 100 )\n",
    "results_df_dict['SightEngine Failure Rate'].append( (white_male_sightengine_fail / white_male_count) * 100 )\n",
    "results_df_dict['SightEngine Mean Male Confidence'].append( white_male_mean_sightengine_male_conf )\n",
    "results_df_dict['SightEngine Mean Female Confidence'].append( white_male_mean_sightengine_female_conf )"
   ]
  },
  {
   "cell_type": "code",
   "execution_count": 26,
   "metadata": {},
   "outputs": [
    {
     "data": {
      "text/plain": [
       "Index(['Race', 'Gender', 'Rekognition Error Rate', 'Rekognition Failure Rate',\n",
       "       'Rekognition Mean Male Confidence',\n",
       "       'Rekognition Mean Female Confidence', 'SightEngine Error Rate',\n",
       "       'SightEngine Failure Rate', 'SightEngine Mean Male Confidence',\n",
       "       'SightEngine Mean Female Confidence'],\n",
       "      dtype='object')"
      ]
     },
     "execution_count": 26,
     "metadata": {},
     "output_type": "execute_result"
    }
   ],
   "source": [
    "results_df = pd.DataFrame(results_df_dict)\n",
    "results_df.head(6)\n",
    "results_df_copy = results_df.copy()\n",
    "results_df_copy.keys()"
   ]
  },
  {
   "cell_type": "code",
   "execution_count": 27,
   "metadata": {},
   "outputs": [
    {
     "data": {
      "text/plain": [
       "'\\\\begin{tabular}{llrrrr}\\n\\\\toprule\\n  Race &  Gender &  Rekognition Error Rate &  Rekognition Failure Rate &  Rekognition Mean Male Confidence &  Rekognition Mean Female Confidence \\\\\\\\\\n\\\\midrule\\n Asian &  Female &                1.204819 &                       0.0 &                          5.822314 &                           94.177686 \\\\\\\\\\n Asian &    Male &                6.024096 &                       0.0 &                         83.719559 &                           16.280441 \\\\\\\\\\n Black &  Female &                0.401606 &                       0.0 &                         15.102459 &                           84.897541 \\\\\\\\\\n Black &    Male &               13.654618 &                       0.0 &                         79.848995 &                           20.151005 \\\\\\\\\\n White &  Female &                0.000000 &                       0.0 &                         11.669456 &                           88.330544 \\\\\\\\\\n White &    Male &               12.048193 &                       0.0 &                         79.605527 &                           20.394473 \\\\\\\\\\n\\\\bottomrule\\n\\\\end{tabular}\\n'"
      ]
     },
     "execution_count": 27,
     "metadata": {},
     "output_type": "execute_result"
    }
   ],
   "source": [
    "results_df.to_latex(index=False, columns= ['Race', 'Gender', 'Rekognition Error Rate', 'Rekognition Failure Rate', 'Rekognition Mean Male Confidence', 'Rekognition Mean Female Confidence'])"
   ]
  },
  {
   "cell_type": "code",
   "execution_count": 28,
   "metadata": {},
   "outputs": [
    {
     "data": {
      "text/plain": [
       "'\\\\begin{tabular}{llrrrr}\\n\\\\toprule\\n  Race &  Gender &  SightEngine Error Rate &  SightEngine Failure Rate &  SightEngine Mean Male Confidence &  SightEngine Mean Female Confidence \\\\\\\\\\n\\\\midrule\\n Asian &  Female &                3.614458 &                  2.811245 &                          5.822314 &                           94.177686 \\\\\\\\\\n Asian &    Male &                7.228916 &                  2.008032 &                         90.860656 &                            9.139344 \\\\\\\\\\n Black &  Female &               10.040161 &                  2.409639 &                         15.102459 &                           84.897541 \\\\\\\\\\n Black &    Male &                2.008032 &                  2.008032 &                         93.557377 &                            6.442623 \\\\\\\\\\n White &  Female &                3.614458 &                  4.417671 &                         11.669456 &                           88.330544 \\\\\\\\\\n White &    Male &                6.425703 &                  0.803213 &                         86.579592 &                           13.420408 \\\\\\\\\\n\\\\bottomrule\\n\\\\end{tabular}\\n'"
      ]
     },
     "execution_count": 28,
     "metadata": {},
     "output_type": "execute_result"
    }
   ],
   "source": [
    "results_df.to_latex(index=False, columns= ['Race', 'Gender', 'SightEngine Error Rate', 'SightEngine Failure Rate', 'SightEngine Mean Male Confidence', 'SightEngine Mean Female Confidence'])"
   ]
  },
  {
   "cell_type": "code",
   "execution_count": 30,
   "metadata": {},
   "outputs": [
    {
     "data": {
      "text/html": [
       "<div>\n",
       "<style scoped>\n",
       "    .dataframe tbody tr th:only-of-type {\n",
       "        vertical-align: middle;\n",
       "    }\n",
       "\n",
       "    .dataframe tbody tr th {\n",
       "        vertical-align: top;\n",
       "    }\n",
       "\n",
       "    .dataframe thead th {\n",
       "        text-align: right;\n",
       "    }\n",
       "</style>\n",
       "<table border=\"1\" class=\"dataframe\">\n",
       "  <thead>\n",
       "    <tr style=\"text-align: right;\">\n",
       "      <th></th>\n",
       "      <th>Race</th>\n",
       "      <th>Gender</th>\n",
       "      <th>Rekognition Error Rate</th>\n",
       "      <th>Rekognition Failure Rate</th>\n",
       "      <th>Rekognition Mean Male Confidence</th>\n",
       "      <th>Rekognition Mean Female Confidence</th>\n",
       "      <th>SightEngine Error Rate</th>\n",
       "      <th>SightEngine Failure Rate</th>\n",
       "      <th>SightEngine Mean Male Confidence</th>\n",
       "      <th>SightEngine Mean Female Confidence</th>\n",
       "    </tr>\n",
       "  </thead>\n",
       "  <tbody>\n",
       "    <tr>\n",
       "      <th>0</th>\n",
       "      <td>Asian</td>\n",
       "      <td>Female</td>\n",
       "      <td>1.204819</td>\n",
       "      <td>0.0</td>\n",
       "      <td>5.822314</td>\n",
       "      <td>94.177686</td>\n",
       "      <td>3.614458</td>\n",
       "      <td>2.811245</td>\n",
       "      <td>5.822314</td>\n",
       "      <td>94.177686</td>\n",
       "    </tr>\n",
       "    <tr>\n",
       "      <th>1</th>\n",
       "      <td>Asian</td>\n",
       "      <td>Male</td>\n",
       "      <td>6.024096</td>\n",
       "      <td>0.0</td>\n",
       "      <td>83.719559</td>\n",
       "      <td>16.280441</td>\n",
       "      <td>7.228916</td>\n",
       "      <td>2.008032</td>\n",
       "      <td>90.860656</td>\n",
       "      <td>9.139344</td>\n",
       "    </tr>\n",
       "    <tr>\n",
       "      <th>2</th>\n",
       "      <td>Black</td>\n",
       "      <td>Female</td>\n",
       "      <td>0.401606</td>\n",
       "      <td>0.0</td>\n",
       "      <td>15.102459</td>\n",
       "      <td>84.897541</td>\n",
       "      <td>10.040161</td>\n",
       "      <td>2.409639</td>\n",
       "      <td>15.102459</td>\n",
       "      <td>84.897541</td>\n",
       "    </tr>\n",
       "    <tr>\n",
       "      <th>3</th>\n",
       "      <td>Black</td>\n",
       "      <td>Male</td>\n",
       "      <td>13.654618</td>\n",
       "      <td>0.0</td>\n",
       "      <td>79.848995</td>\n",
       "      <td>20.151005</td>\n",
       "      <td>2.008032</td>\n",
       "      <td>2.008032</td>\n",
       "      <td>93.557377</td>\n",
       "      <td>6.442623</td>\n",
       "    </tr>\n",
       "    <tr>\n",
       "      <th>4</th>\n",
       "      <td>White</td>\n",
       "      <td>Female</td>\n",
       "      <td>0.000000</td>\n",
       "      <td>0.0</td>\n",
       "      <td>11.669456</td>\n",
       "      <td>88.330544</td>\n",
       "      <td>3.614458</td>\n",
       "      <td>4.417671</td>\n",
       "      <td>11.669456</td>\n",
       "      <td>88.330544</td>\n",
       "    </tr>\n",
       "    <tr>\n",
       "      <th>5</th>\n",
       "      <td>White</td>\n",
       "      <td>Male</td>\n",
       "      <td>12.048193</td>\n",
       "      <td>0.0</td>\n",
       "      <td>79.605527</td>\n",
       "      <td>20.394473</td>\n",
       "      <td>6.425703</td>\n",
       "      <td>0.803213</td>\n",
       "      <td>86.579592</td>\n",
       "      <td>13.420408</td>\n",
       "    </tr>\n",
       "  </tbody>\n",
       "</table>\n",
       "</div>"
      ],
      "text/plain": [
       "    Race  Gender  Rekognition Error Rate  Rekognition Failure Rate  \\\n",
       "0  Asian  Female                1.204819                       0.0   \n",
       "1  Asian    Male                6.024096                       0.0   \n",
       "2  Black  Female                0.401606                       0.0   \n",
       "3  Black    Male               13.654618                       0.0   \n",
       "4  White  Female                0.000000                       0.0   \n",
       "5  White    Male               12.048193                       0.0   \n",
       "\n",
       "   Rekognition Mean Male Confidence  Rekognition Mean Female Confidence  \\\n",
       "0                          5.822314                           94.177686   \n",
       "1                         83.719559                           16.280441   \n",
       "2                         15.102459                           84.897541   \n",
       "3                         79.848995                           20.151005   \n",
       "4                         11.669456                           88.330544   \n",
       "5                         79.605527                           20.394473   \n",
       "\n",
       "   SightEngine Error Rate  SightEngine Failure Rate  \\\n",
       "0                3.614458                  2.811245   \n",
       "1                7.228916                  2.008032   \n",
       "2               10.040161                  2.409639   \n",
       "3                2.008032                  2.008032   \n",
       "4                3.614458                  4.417671   \n",
       "5                6.425703                  0.803213   \n",
       "\n",
       "   SightEngine Mean Male Confidence  SightEngine Mean Female Confidence  \n",
       "0                          5.822314                           94.177686  \n",
       "1                         90.860656                            9.139344  \n",
       "2                         15.102459                           84.897541  \n",
       "3                         93.557377                            6.442623  \n",
       "4                         11.669456                           88.330544  \n",
       "5                         86.579592                           13.420408  "
      ]
     },
     "execution_count": 30,
     "metadata": {},
     "output_type": "execute_result"
    }
   ],
   "source": [
    "results_df"
   ]
  },
  {
   "cell_type": "code",
   "execution_count": 33,
   "metadata": {},
   "outputs": [],
   "source": [
    "mean_asian_rekog_error = np.mean( results_df.loc[results_df['Race'] == 'Asian']['Rekognition Error Rate'])\n",
    "mean_black_rekog_error = np.mean( results_df.loc[results_df['Race'] == 'Black']['Rekognition Error Rate'])\n",
    "mean_white_rekog_error = np.mean( results_df.loc[results_df['Race'] == 'White']['Rekognition Error Rate'])\n",
    "mean_asian_sightengine_error = np.mean( results_df.loc[results_df['Race'] == 'Asian']['SightEngine Error Rate'])\n",
    "mean_black_sightengine_error = np.mean( results_df.loc[results_df['Race'] == 'Black']['SightEngine Error Rate'])\n",
    "mean_white_sightengine_error = np.mean( results_df.loc[results_df['Race'] == 'White']['SightEngine Error Rate'])"
   ]
  },
  {
   "cell_type": "code",
   "execution_count": 34,
   "metadata": {},
   "outputs": [],
   "source": [
    "mean_asian_rekog_fail = np.mean( results_df.loc[results_df['Race'] == 'Asian']['Rekognition Failure Rate'])\n",
    "mean_black_rekog_fail = np.mean( results_df.loc[results_df['Race'] == 'Black']['Rekognition Failure Rate'])\n",
    "mean_white_rekog_fail = np.mean( results_df.loc[results_df['Race'] == 'White']['Rekognition Failure Rate'])\n",
    "mean_asian_sightengine_fail = np.mean( results_df.loc[results_df['Race'] == 'Asian']['SightEngine Failure Rate'])\n",
    "mean_black_sightengine_fail = np.mean( results_df.loc[results_df['Race'] == 'Black']['SightEngine Failure Rate'])\n",
    "mean_white_sightengine_fail = np.mean( results_df.loc[results_df['Race'] == 'White']['SightEngine Failure Rate'])"
   ]
  },
  {
   "cell_type": "code",
   "execution_count": 35,
   "metadata": {},
   "outputs": [],
   "source": [
    "mean_male_rekog_error = np.mean( results_df.loc[results_df['Gender'] == 'Male']['Rekognition Error Rate'])\n",
    "mean_female_rekog_error = np.mean( results_df.loc[results_df['Gender'] == 'Female']['Rekognition Error Rate'])\n",
    "mean_male_sightengine_error = np.mean( results_df.loc[results_df['Gender'] == 'Male']['SightEngine Error Rate'])\n",
    "mean_female_sightengine_error = np.mean( results_df.loc[results_df['Gender'] == 'Female']['SightEngine Error Rate'])"
   ]
  },
  {
   "cell_type": "code",
   "execution_count": 37,
   "metadata": {},
   "outputs": [],
   "source": [
    "mean_male_rekog_fail = np.mean( results_df.loc[results_df['Gender'] == 'Male']['Rekognition Failure Rate'])\n",
    "mean_female_rekog_fail = np.mean( results_df.loc[results_df['Gender'] == 'Female']['Rekognition Failure Rate'])\n",
    "mean_male_sightengine_fail = np.mean( results_df.loc[results_df['Gender'] == 'Male']['SightEngine Failure Rate'])\n",
    "mean_female_sightengine_fail = np.mean( results_df.loc[results_df['Gender'] == 'Female']['SightEngine Failure Rate'])"
   ]
  },
  {
   "cell_type": "code",
   "execution_count": 52,
   "metadata": {},
   "outputs": [],
   "source": [
    "classifiers_mf_df_dict = {\n",
    "    \"Classifier\":['Rekognition', 'SightEngine'],\n",
    "    \"Male Error Rate\":[mean_male_rekog_error, mean_male_sightengine_error],\n",
    "    \"Female Error Rate\":[mean_female_rekog_error, mean_female_sightengine_error],\n",
    "    \"Male Failure Rate\":[mean_male_rekog_fail, mean_male_sightengine_fail],\n",
    "    \"Female Failure Rate\":[mean_female_rekog_fail, mean_female_sightengine_fail],\n",
    "}"
   ]
  },
  {
   "cell_type": "code",
   "execution_count": 53,
   "metadata": {},
   "outputs": [],
   "source": [
    "classifiers_mf_df = pd.DataFrame(classifiers_mf_df_dict)"
   ]
  },
  {
   "cell_type": "code",
   "execution_count": 54,
   "metadata": {},
   "outputs": [
    {
     "data": {
      "text/html": [
       "<div>\n",
       "<style scoped>\n",
       "    .dataframe tbody tr th:only-of-type {\n",
       "        vertical-align: middle;\n",
       "    }\n",
       "\n",
       "    .dataframe tbody tr th {\n",
       "        vertical-align: top;\n",
       "    }\n",
       "\n",
       "    .dataframe thead th {\n",
       "        text-align: right;\n",
       "    }\n",
       "</style>\n",
       "<table border=\"1\" class=\"dataframe\">\n",
       "  <thead>\n",
       "    <tr style=\"text-align: right;\">\n",
       "      <th></th>\n",
       "      <th>Classifier</th>\n",
       "      <th>Male Error Rate</th>\n",
       "      <th>Female Error Rate</th>\n",
       "      <th>Male Failure Rate</th>\n",
       "      <th>Female Failure Rate</th>\n",
       "    </tr>\n",
       "  </thead>\n",
       "  <tbody>\n",
       "    <tr>\n",
       "      <th>0</th>\n",
       "      <td>Rekognition</td>\n",
       "      <td>10.575636</td>\n",
       "      <td>0.535475</td>\n",
       "      <td>0.000000</td>\n",
       "      <td>0.000000</td>\n",
       "    </tr>\n",
       "    <tr>\n",
       "      <th>1</th>\n",
       "      <td>SightEngine</td>\n",
       "      <td>5.220884</td>\n",
       "      <td>5.756359</td>\n",
       "      <td>1.606426</td>\n",
       "      <td>3.212851</td>\n",
       "    </tr>\n",
       "  </tbody>\n",
       "</table>\n",
       "</div>"
      ],
      "text/plain": [
       "    Classifier  Male Error Rate  Female Error Rate  Male Failure Rate  \\\n",
       "0  Rekognition        10.575636           0.535475           0.000000   \n",
       "1  SightEngine         5.220884           5.756359           1.606426   \n",
       "\n",
       "   Female Failure Rate  \n",
       "0             0.000000  \n",
       "1             3.212851  "
      ]
     },
     "execution_count": 54,
     "metadata": {},
     "output_type": "execute_result"
    }
   ],
   "source": [
    "classifiers_mf_df.head()"
   ]
  },
  {
   "cell_type": "code",
   "execution_count": 55,
   "metadata": {},
   "outputs": [
    {
     "data": {
      "text/plain": [
       "'\\\\begin{tabular}{llrrrr}\\n\\\\toprule\\n{} &   Classifier &  Male Error Rate &  Female Error Rate &  Male Failure Rate &  Female Failure Rate \\\\\\\\\\n\\\\midrule\\n0 &  Rekognition &        10.575636 &           0.535475 &           0.000000 &             0.000000 \\\\\\\\\\n1 &  SightEngine &         5.220884 &           5.756359 &           1.606426 &             3.212851 \\\\\\\\\\n\\\\bottomrule\\n\\\\end{tabular}\\n'"
      ]
     },
     "execution_count": 55,
     "metadata": {},
     "output_type": "execute_result"
    }
   ],
   "source": [
    "classifiers_mf_df.to_latex(index=False)"
   ]
  },
  {
   "cell_type": "code",
   "execution_count": 51,
   "metadata": {},
   "outputs": [],
   "source": [
    "classifiers_race_df_dict = {\n",
    "    \"Classifier\":['Rekognition', 'SightEngine'],\n",
    "    \"Asian Error Rate\":[mean_asian_rekog_error, mean_asian_sightengine_error],\n",
    "    \"Asian Failure Rate\":[mean_asian_rekog_error, mean_asian_sightengine_error],\n",
    "    \"Black Error Rate\":[mean_black_rekog_error, mean_black_sightengine_error],\n",
    "    \"Black Failure Rate\":[mean_asian_rekog_error, mean_asian_sightengine_error],\n",
    "    \"White Error Rate\":[mean_white_rekog_error, mean_white_sightengine_error],\n",
    "    \"White Failure Rate\":[mean_asian_rekog_error, mean_asian_sightengine_error],\n",
    "    \"Non-white Error Rate\":[ np.mean([mean_asian_rekog_error, mean_black_rekog_error]), np.mean([mean_asian_sightengine_error, mean_black_sightengine_error])],\n",
    "    \"Non-white Failure Rate\":[np.mean([mean_asian_rekog_fail, mean_black_rekog_fail]), np.mean([mean_asian_sightengine_fail, mean_black_sightengine_fail])]\n",
    "}"
   ]
  },
  {
   "cell_type": "code",
   "execution_count": null,
   "metadata": {},
   "outputs": [],
   "source": []
  }
 ],
 "metadata": {
  "kernelspec": {
   "display_name": "Python 3",
   "language": "python",
   "name": "python3"
  },
  "language_info": {
   "codemirror_mode": {
    "name": "ipython",
    "version": 3
   },
   "file_extension": ".py",
   "mimetype": "text/x-python",
   "name": "python",
   "nbconvert_exporter": "python",
   "pygments_lexer": "ipython3",
   "version": "3.7.1"
  }
 },
 "nbformat": 4,
 "nbformat_minor": 2
}
